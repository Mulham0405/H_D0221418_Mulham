{
  "nbformat": 4,
  "nbformat_minor": 0,
  "metadata": {
    "colab": {
      "name": "Untitled5.ipynb",
      "provenance": [],
      "collapsed_sections": [],
      "toc_visible": true
    },
    "kernelspec": {
      "name": "python3",
      "display_name": "Python 3"
    },
    "language_info": {
      "name": "python"
    }
  },
  "cells": [
    {
      "cell_type": "code",
      "execution_count": null,
      "metadata": {
        "colab": {
          "base_uri": "https://localhost:8080/"
        },
        "id": "7fs7lWT2zDMv",
        "outputId": "95747b4b-c5c5-466d-fa2f-d11a2a6a47cd"
      },
      "outputs": [
        {
          "output_type": "stream",
          "name": "stdout",
          "text": [
            "selamat anda lulus\n"
          ]
        }
      ],
      "source": [
        "nilai = 50\n",
        "if nilai >= 50 :\n",
        " print(\"selamat anda lulus\")"
      ]
    },
    {
      "cell_type": "code",
      "source": [
        "nilai = 40\n",
        "if nilai >= 50 :\n",
        " print(\"anda lulus\")\n",
        "else :\n",
        " print(\"anda tidak lulus\")"
      ],
      "metadata": {
        "colab": {
          "base_uri": "https://localhost:8080/"
        },
        "id": "OkIiJG-NzWxu",
        "outputId": "2a0d8a39-350e-46eb-b094-56a714723375"
      },
      "execution_count": null,
      "outputs": [
        {
          "output_type": "stream",
          "name": "stdout",
          "text": [
            "anda tidak lulus\n"
          ]
        }
      ]
    },
    {
      "cell_type": "code",
      "source": [
        "nilai = 40\n",
        "if nilai >=100 :\n",
        " print(\"nilai anda : A \")\n",
        "elif nilai <100 and nilai >=50 :\n",
        " print(\"nilai anda : B \")\n",
        "elif nilai <50 and nilai >=30 :\n",
        " print(\"nilai anda : C \")\n",
        "else :\n",
        " print(\"nilai anda : D \")"
      ],
      "metadata": {
        "colab": {
          "base_uri": "https://localhost:8080/"
        },
        "id": "--kD121Fz_x7",
        "outputId": "e1024b41-5f70-44d8-d0b1-60fb13f8a783"
      },
      "execution_count": null,
      "outputs": [
        {
          "output_type": "stream",
          "name": "stdout",
          "text": [
            "nilai anda : C \n"
          ]
        }
      ]
    },
    {
      "cell_type": "code",
      "source": [
        "nilai = int(input(\"masukkan nilai anda : \"))\n",
        "if nilai >=100 :\n",
        " print(\"nilai anda : A \")\n",
        "elif nilai <100 and nilai >=50 :\n",
        " print(\"nilai anda : B \")\n",
        "elif nilai <50 and nilai >=30 :\n",
        " print(\"nilai anda : C \")\n",
        "else :\n",
        " print(\"nilai anda : D \")"
      ],
      "metadata": {
        "colab": {
          "base_uri": "https://localhost:8080/"
        },
        "id": "nOoKVIgX01aS",
        "outputId": "ed2e1bd4-ecf7-494c-b8a4-b714afece9f2"
      },
      "execution_count": null,
      "outputs": [
        {
          "output_type": "stream",
          "name": "stdout",
          "text": [
            "masukkan nilai anda : 60\n",
            "nilai anda : B \n"
          ]
        }
      ]
    }
  ]
}