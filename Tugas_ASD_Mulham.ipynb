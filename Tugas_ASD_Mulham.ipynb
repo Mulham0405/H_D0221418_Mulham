{
  "nbformat": 4,
  "nbformat_minor": 0,
  "metadata": {
    "colab": {
      "name": "Tugas ASD Mulham.ipynb",
      "provenance": [],
      "collapsed_sections": []
    },
    "kernelspec": {
      "name": "python3",
      "display_name": "Python 3"
    },
    "language_info": {
      "name": "python"
    }
  },
  "cells": [
    {
      "cell_type": "code",
      "source": [
        " #list\n",
        "\n",
        " benda = [\"meja\", \"lemari\", \"kursi\", \"papan\"]\n",
        "\n",
        " benda[1] = \"kulkas\"\n",
        "\n",
        " for nama in benda :\n",
        "   print(nama)"
      ],
      "metadata": {
        "colab": {
          "base_uri": "https://localhost:8080/"
        },
        "id": "aR6y2vy1-AvN",
        "outputId": "ce74860d-87b6-4b54-94e4-75c57ea57faa"
      },
      "execution_count": 62,
      "outputs": [
        {
          "output_type": "stream",
          "name": "stdout",
          "text": [
            "meja\n",
            "kulkas\n",
            "kursi\n",
            "papan\n"
          ]
        }
      ]
    },
    {
      "cell_type": "code",
      "source": [
        "benda = [\"meja\", \"lemari\", \"kursi\", \"papan\"]\n",
        "\n",
        "del benda[3]\n",
        "\n",
        "for nama in benda :\n",
        "  print(nama)"
      ],
      "metadata": {
        "colab": {
          "base_uri": "https://localhost:8080/"
        },
        "id": "NQ0dRuBFEuYN",
        "outputId": "500a6452-98a1-48f5-bc55-3d328d4c3dd0"
      },
      "execution_count": 64,
      "outputs": [
        {
          "output_type": "stream",
          "name": "stdout",
          "text": [
            "meja\n",
            "lemari\n",
            "kursi\n"
          ]
        }
      ]
    },
    {
      "cell_type": "code",
      "source": [
        "benda = [\"meja\", \"lemari\", \"kursi\", \"papan\"]\n",
        "\n",
        "benda.insert(2, \"pisau\")\n",
        "\n",
        "for nama in benda :\n",
        "  print(nama)"
      ],
      "metadata": {
        "colab": {
          "base_uri": "https://localhost:8080/"
        },
        "id": "9to5Nbr8F2XD",
        "outputId": "9967acaf-11ed-422a-d119-18388b1b4957"
      },
      "execution_count": 68,
      "outputs": [
        {
          "output_type": "stream",
          "name": "stdout",
          "text": [
            "meja\n",
            "lemari\n",
            "pisau\n",
            "kursi\n",
            "papan\n"
          ]
        }
      ]
    },
    {
      "cell_type": "code",
      "source": [
        "#set\n",
        "nama_benda = {'meja', 'kursi', 'peti', 'lemari'}\n",
        "\n",
        "nama_benda.update({'papan', 'penghapus'})\n",
        "\n",
        "for item in nama_benda :\n",
        "  print(item)"
      ],
      "metadata": {
        "colab": {
          "base_uri": "https://localhost:8080/"
        },
        "id": "O1u486hbHTtr",
        "outputId": "7c27336b-38e8-4e6f-f67b-c1c85edbacc0"
      },
      "execution_count": 70,
      "outputs": [
        {
          "output_type": "stream",
          "name": "stdout",
          "text": [
            "kursi\n",
            "peti\n",
            "lemari\n",
            "papan\n",
            "meja\n",
            "penghapus\n"
          ]
        }
      ]
    },
    {
      "cell_type": "code",
      "source": [
        "#set\n",
        "nama_benda = {'meja', 'kursi', 'peti', 'lemari'}\n",
        "\n",
        "nama_benda.clear()\n",
        "\n",
        "for item in nama_benda :\n",
        "  print(item)"
      ],
      "metadata": {
        "id": "Zu8xswUiL9-4"
      },
      "execution_count": 77,
      "outputs": []
    },
    {
      "cell_type": "code",
      "source": [
        "#tuple\n",
        "benda = ('kursi', 'lemari', 'meja', 'pisau',)\n",
        "\n",
        "\n",
        "for nama in benda :\n",
        "  print(nama)"
      ],
      "metadata": {
        "colab": {
          "base_uri": "https://localhost:8080/"
        },
        "id": "3SAmIh79NL2t",
        "outputId": "0826a6c2-e1e8-49e8-8675-a30c2279e3c0"
      },
      "execution_count": 80,
      "outputs": [
        {
          "output_type": "stream",
          "name": "stdout",
          "text": [
            "kursi\n",
            "lemari\n",
            "meja\n",
            "pisau\n"
          ]
        }
      ]
    },
    {
      "cell_type": "code",
      "source": [
        "#tuple\n",
        "benda = ('kursi', 'lemari', 'meja', 'pisau',)\n",
        "print(benda)\n",
        "del benda\n",
        "benda = ('palu', 'paku', )\n",
        "\n",
        "\n",
        "for nama in benda :\n",
        "  print(nama)"
      ],
      "metadata": {
        "colab": {
          "base_uri": "https://localhost:8080/"
        },
        "id": "7bVgO7NMQw7h",
        "outputId": "384953ea-4d65-4cdc-d307-66dec065c0a0"
      },
      "execution_count": 85,
      "outputs": [
        {
          "output_type": "stream",
          "name": "stdout",
          "text": [
            "('kursi', 'lemari', 'meja', 'pisau')\n",
            "palu\n",
            "paku\n"
          ]
        }
      ]
    },
    {
      "cell_type": "code",
      "source": [
        "#dictionary\n",
        "biodata = {\n",
        "    \"nama\" : \"mulham\",\n",
        "    \"umur\" : 19,\n",
        "    \"hobi\" : \"main gitar\",\n",
        "}\n",
        "\n",
        "for data in biodata :\n",
        "  print(biodata[data])"
      ],
      "metadata": {
        "colab": {
          "base_uri": "https://localhost:8080/"
        },
        "id": "MeLil9oYR8BD",
        "outputId": "bb9f71f4-d9cb-4e31-9b28-22fdf67f14b1"
      },
      "execution_count": 87,
      "outputs": [
        {
          "output_type": "stream",
          "name": "stdout",
          "text": [
            "mulham\n",
            "19\n",
            "main gitar\n"
          ]
        }
      ]
    },
    {
      "cell_type": "code",
      "source": [
        "#dictionary\n",
        "biodata = {\n",
        "    \"nama\" : \"mulham\",\n",
        "    \"umur\" : 19,\n",
        "    \"hobi\" : \"main gitar\",\n",
        "}\n",
        "biodata[\"hobi\"] = \"nyanyi\"\n",
        "for data in biodata :\n",
        "  print(biodata[data])"
      ],
      "metadata": {
        "colab": {
          "base_uri": "https://localhost:8080/"
        },
        "id": "2xwi5o2OTwK9",
        "outputId": "684a8c46-ae30-4035-9aed-fba5b695b985"
      },
      "execution_count": 88,
      "outputs": [
        {
          "output_type": "stream",
          "name": "stdout",
          "text": [
            "mulham\n",
            "19\n",
            "nyanyi\n"
          ]
        }
      ]
    },
    {
      "cell_type": "code",
      "source": [
        "#dictionary\n",
        "biodata = {\n",
        "    \"nama\" : \"mulham\",\n",
        "    \"umur\" : 19,\n",
        "    \"hobi\" : \"main gitar\",\n",
        "}\n",
        "biodata.update({\"nama\": \"Mulham Sardy\"})\n",
        "\n",
        "for data in biodata :\n",
        "  print(biodata[data])"
      ],
      "metadata": {
        "colab": {
          "base_uri": "https://localhost:8080/"
        },
        "id": "BlNaltw-UNqE",
        "outputId": "d22f3592-516d-4ddf-8a75-293307bd54a1"
      },
      "execution_count": 90,
      "outputs": [
        {
          "output_type": "stream",
          "name": "stdout",
          "text": [
            "Mulham Sardy\n",
            "19\n",
            "main gitar\n"
          ]
        }
      ]
    },
    {
      "cell_type": "code",
      "source": [
        "#dictionary\n",
        "biodata = {\n",
        "    \"nama\" : \"mulham\",\n",
        "    \"umur\" : 19,\n",
        "    \"hobi\" : \"main gitar\",\n",
        "}\n",
        "del biodata[\"umur\"]\n",
        "biodata\n",
        "for data in biodata :\n",
        "  print(biodata[data])"
      ],
      "metadata": {
        "colab": {
          "base_uri": "https://localhost:8080/"
        },
        "id": "09Z7FhNjUrzW",
        "outputId": "f3f4643f-2099-4143-87d8-44cf2edfd4d7"
      },
      "execution_count": 91,
      "outputs": [
        {
          "output_type": "stream",
          "name": "stdout",
          "text": [
            "mulham\n",
            "main gitar\n"
          ]
        }
      ]
    }
  ]
}