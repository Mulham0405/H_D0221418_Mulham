{
  "nbformat": 4,
  "nbformat_minor": 0,
  "metadata": {
    "colab": {
      "name": "tugas asd Mulham_D0221418_H.ipynb",
      "provenance": [],
      "collapsed_sections": []
    },
    "kernelspec": {
      "name": "python3",
      "display_name": "Python 3"
    },
    "language_info": {
      "name": "python"
    }
  },
  "cells": [
    {
      "cell_type": "code",
      "execution_count": 10,
      "metadata": {
        "colab": {
          "base_uri": "https://localhost:8080/"
        },
        "id": "KaDGCoRXrF_k",
        "outputId": "13af7aea-d6aa-4f9a-a856-ee80c39c56da"
      },
      "outputs": [
        {
          "output_type": "stream",
          "name": "stdout",
          "text": [
            "masukkan maksimal club:4\n",
            "\n",
            "\n",
            "  1.push -> menambahkan item\n",
            "\t2.pop -> menghapus item\n",
            "\t3.peek2 -> melihat item teratas\n",
            "\t4.empty -> memeriksa apakah data penuh\n",
            "\t5.size -> melihat ukuran data\n",
            "ketik 6 untuk berhenti \n",
            " masuk6\n",
            "\n"
          ]
        }
      ],
      "source": [
        "#stack\n",
        "data = []\n",
        "max_size = int(input(\"masukkan maksimal club:\"))\n",
        "\n",
        "def isEmpty ():\n",
        "\tif len (data) == 5:\n",
        "\t\tprint(\"data kosong\")\n",
        "\t\treturn True\n",
        "\treturn False\n",
        "\t\n",
        "def isFull ():\n",
        "\tif len(data)== max_size:\n",
        "\t\tprint (\"data penuh\")\n",
        "\t\treturn True\n",
        "\treturn False\n",
        "\t\n",
        "def pop ():\n",
        "\tif isEmpty () == False :\n",
        "\t\tprint (data.pop(), \"terhapus\")\n",
        "\t\t\n",
        "def push():\n",
        "\tif isFull() == False :\n",
        "\t\ta = input (\"masukkan data baru:\")\n",
        "\t\tdata.append(a)\n",
        "\t\tprint (a,\"ditambahkan.\")\n",
        "\t\t\n",
        "perintah = 0\n",
        "while perintah != '6':\n",
        "\tprint(\"\"\"\\n\n",
        "  1.push -> menambahkan item\n",
        "\t2.pop -> menghapus item\n",
        "\t3.peek2 -> melihat item teratas\n",
        "\t4.empty -> memeriksa apakah data penuh\n",
        "\t5.size -> melihat ukuran data\"\"\")\n",
        "\tperintah = input(\"ketik 6 untuk berhenti \\n masuk\")\n",
        "\tprint()\n",
        "\t\n",
        "\tif perintah == '1':\n",
        "\t\tpush()\n",
        "\telif perintah == '2':\n",
        "\t\tpop()\n",
        "\telif perintah == '3':\n",
        "\t\tprint(data[-1])\n",
        "\telif perintah == '4':\n",
        "\t\tif isEmpty() == False :\n",
        "\t\t\tprint(\"data belum full\")\n",
        "\telif perintah == '5':\n",
        "\t\tprint(\"data saat ini:\",len (data),\"\\nmaksimal\")"
      ]
    },
    {
      "cell_type": "code",
      "source": [
        "nama_barang = []\n",
        "maksimal_nama_barang = int(input(\"masukkan maksimal nama barang: \"))\n",
        "def isFull():\n",
        "  if len(nama_barang) == maksimal_nama_barang:\n",
        "    print(\"barang penuh\")\n",
        "    return True\n",
        "  return False\n",
        "\n",
        "def enqueue():\n",
        "  if isFull() == False:\n",
        "    d = input(\"tambahkan baru baru: \")\n",
        "    nama_barang.append(d)\n",
        "    print(\"barang yang telah ditambahkan : \", d)\n",
        "    \n",
        "def isEmpty():\n",
        "  if len(nama_barang) == 0:\n",
        "    print(\"nama barang kosong\")\n",
        "    return True\n",
        "  return False\n",
        "\n",
        "def dequeue():\n",
        "  if isEmpty() == False:\n",
        "    print(nama_barang.pop(0),\"di hapus\")\n",
        "\n",
        "\n",
        "menu = 0\n",
        "while menu !=5:\n",
        "  print('''\n",
        "  a.enqueue > menambah nama barang\n",
        "  b. dequeue > menghapus barang\n",
        "  c. Full > mengecek nama barang apakah penuh\n",
        "  d. size > melihat ukuran barang\n",
        "  e. stop''' )\n",
        "\n",
        "  menu = input(\"masukkan menu pilihan: \")\n",
        "\n",
        "  if menu == 'a':\n",
        "    enqueue()\n",
        "  elif menu == 'b':\n",
        "    dequeue()\n",
        "  elif menu == 'c':\n",
        "    if isFull() == False:\n",
        "      print(\"barang belum terisi penuh\")\n",
        "  elif menu == 'd':\n",
        "    print(\"barang saat ini terisi: \",len(nama_barang),\"\\n maksimal barang : \",maksimal_nama_barang)\n",
        "  elif menu == 'e':\n",
        "    break"
      ],
      "metadata": {
        "colab": {
          "base_uri": "https://localhost:8080/"
        },
        "id": "dnbirdnds7Oc",
        "outputId": "0e9bd6a3-2936-49c8-924f-2b984b38a29b"
      },
      "execution_count": 8,
      "outputs": [
        {
          "name": "stdout",
          "output_type": "stream",
          "text": [
            "masukkan maksimal nama barang: 4\n",
            "\n",
            "  a.enqueue > menambah nama barang\n",
            "  b. dequeue > menghapus barang\n",
            "  c. Full > mengecek nama barang apakah penuh\n",
            "  d. size > melihat ukuran barang\n",
            "  e. stop\n",
            "masukkan menu pilihan: e\n"
          ]
        }
      ]
    }
  ]
}